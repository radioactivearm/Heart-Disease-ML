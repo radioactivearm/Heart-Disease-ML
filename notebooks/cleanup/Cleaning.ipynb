{
 "cells": [
  {
   "cell_type": "code",
   "execution_count": null,
   "metadata": {},
   "outputs": [],
   "source": [
    "# Import Dependencies\n",
    "import pandas as pd"
   ]
  },
  {
   "cell_type": "code",
   "execution_count": null,
   "metadata": {},
   "outputs": [],
   "source": [
    "# File Paths\n",
    "\n",
    "file_path_one = ('../../data/data.csv')\n",
    "file_path_two = ('../../data/heart_statlog_cleveland_hungary_final.csv')"
   ]
  },
  {
   "cell_type": "code",
   "execution_count": null,
   "metadata": {},
   "outputs": [],
   "source": [
    "# Read the 1st csv - smaller dataset with 2 extra features\n",
    "hd_small_df = pd.read_csv(file_path_one)\n",
    "hd_small_df.head()"
   ]
  },
  {
   "cell_type": "code",
   "execution_count": null,
   "metadata": {},
   "outputs": [],
   "source": [
    "# Read the 2nd csv - larger dataset with less features\n",
    "hd_large_df = pd.read_csv(file_path_two)\n",
    "hd_large_df.head()"
   ]
  },
  {
   "cell_type": "markdown",
   "metadata": {},
   "source": [
    "age: age in years\n",
    "\n",
    "sex: sex (1 = male; 0 = female)\n",
    "\n",
    "cp: chest pain type (Value 0: typical angina; Value 1: atypical angina; Value 2: non-anginal pain; Value 3: asymptomatic)\n",
    "\n",
    "trestbps: resting blood pressure in mm Hg on admission to the hospital\n",
    "\n",
    "chol: serum cholestoral in mg/dl\n",
    "\n",
    "fbs: fasting blood sugar > 120 mg/dl (1 = true; 0 = false)\n",
    "\n",
    "restecg: resting electrocardiographic results (Value 0: normal; Value 1: having ST-T wave abnormality; Value 2: \n",
    "probable or definite left ventricular hypertrophy)\n",
    "\n",
    "thalach: maximum heart rate achieved\n",
    "\n",
    "exang: exercise induced angina (1 = yes; 0 = no)\n",
    "\n",
    "oldpeak: ST depression induced by exercise relative to rest\n",
    "\n",
    "slope: the slope of the peak exercise ST segment (Value 0: upsloping; Value 1: flat; Value 2: downsloping)\n",
    "\n",
    "ca: number of major vessels (0-3) colored by flourosopy\n",
    "\n",
    "thal: thalassemia (3 = normal; 6 = fixed defect; 7 = reversable defect)\n",
    "\n",
    "target: heart disease (1 = no, 2 = yes)"
   ]
  },
  {
   "cell_type": "code",
   "execution_count": null,
   "metadata": {},
   "outputs": [],
   "source": [
    "# Dropping na on Small dataset\n",
    "hd_small_df.dropna(inplace = True)"
   ]
  },
  {
   "cell_type": "code",
   "execution_count": null,
   "metadata": {},
   "outputs": [],
   "source": [
    "# Renaming columns in the Small Dataset\n",
    "hd_small_df.rename(columns={'cp':'chest pain type', \n",
    "                            'trestbps': 'resting bp s', \n",
    "                            'chol':'cholesterol',\n",
    "                            'fbs':'fasting blood sugar',\n",
    "                            'restecg':'resting ecg',\n",
    "                            'thalach':'max heart rate',\n",
    "                            'exang':'exercise angina',\n",
    "                            'slope':'ST slope',\n",
    "                            'ca':'major vessels',\n",
    "                            'thal':'thalassemia'}, inplace = True)\n",
    "hd_small_df"
   ]
  },
  {
   "cell_type": "code",
   "execution_count": null,
   "metadata": {},
   "outputs": [],
   "source": [
    "# Changing Target values from 1 to 0 and 2 to 1 to be read easier for ML\n",
    "\n",
    "hd_small_df[\"target\"].replace({1: 0, 2: 1}, inplace=True)\n",
    "hd_small_df.head()"
   ]
  },
  {
   "cell_type": "code",
   "execution_count": null,
   "metadata": {},
   "outputs": [],
   "source": [
    "# Dropping na on Large dataset\n",
    "hd_large_df.dropna(inplace = True)\n",
    "hd_large_df"
   ]
  },
  {
   "cell_type": "code",
   "execution_count": null,
   "metadata": {},
   "outputs": [],
   "source": [
    "# Loading the cleaned dataframes to new CSV files\n",
    "hd_small_df.to_csv('../../data/small_heart_disease_dataset.csv', index = False)\n",
    "hd_large_df.to_csv('../../data/large_heart_disease_dataset.csv', index = False)"
   ]
  },
  {
   "cell_type": "code",
   "execution_count": null,
   "metadata": {},
   "outputs": [],
   "source": []
  }
 ],
 "metadata": {
  "kernelspec": {
   "display_name": "Python 3",
   "language": "python",
   "name": "python3"
  },
  "language_info": {
   "codemirror_mode": {
    "name": "ipython",
    "version": 3
   },
   "file_extension": ".py",
   "mimetype": "text/x-python",
   "name": "python",
   "nbconvert_exporter": "python",
   "pygments_lexer": "ipython3",
   "version": "3.6.10"
  }
 },
 "nbformat": 4,
 "nbformat_minor": 4
}
